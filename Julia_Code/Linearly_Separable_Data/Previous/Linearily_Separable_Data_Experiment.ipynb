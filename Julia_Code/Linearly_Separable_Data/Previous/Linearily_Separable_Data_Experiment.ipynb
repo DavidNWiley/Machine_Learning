{
 "cells": [
  {
   "cell_type": "markdown",
   "metadata": {},
   "source": [
    "# Exercise 1.4 (NOT FINISHED)\n",
    "Generate a 2-dimensional data set of size 20. Try the perceptron learning algorithm on your data set and see how long it takes to converge and how well the final hypothesis $g$ matches your target $f$. This will be a good start to Problem 1.4. \n",
    "\n",
    "For this notebook you will need to import the following packages:\n",
    "* Plots [documentation](http://docs.juliaplots.org/latest/) "
   ]
  },
  {
   "cell_type": "code",
   "execution_count": null,
   "metadata": {},
   "outputs": [],
   "source": [
    "using Plots"
   ]
  },
  {
   "cell_type": "code",
   "execution_count": null,
   "metadata": {},
   "outputs": [],
   "source": [
    "# Linear seperable data function \n",
    "function make_linearily_separable_data(n)\n",
    "    coeff = rand(2)\n",
    "    X = rand(n,2)\n",
    "    above = []\n",
    "    below = []\n",
    "    \n",
    "    for i = 1:n\n",
    "        if coeff[1]*X[i,1] + coeff[2] < X[i,2]\n",
    "            push!(above, (X[i,1], X[i,2]))\n",
    "        end\n",
    "        if coeff[1]*X[i,1] + coeff[2] > X[i,2]\n",
    "            push!(below, (X[i,1], X[i,2]))\n",
    "        end\n",
    "    end\n",
    "    \n",
    "    return above, below, coeff\n",
    "end "
   ]
  },
  {
   "cell_type": "code",
   "execution_count": null,
   "metadata": {},
   "outputs": [],
   "source": [
    "# Make random collection of linearily seperable data\n",
    "above, below, coeff = make_linearily_separable_data(20)"
   ]
  },
  {
   "cell_type": "code",
   "execution_count": null,
   "metadata": {},
   "outputs": [],
   "source": [
    "scatter([x for x in above], label=\"above\")\n",
    "scatter!([x for x in below], label=\"below\")\n",
    "plot!(x->coeff[1]*x + coeff[2], label = \"Target f(x)\")"
   ]
  },
  {
   "cell_type": "code",
   "execution_count": null,
   "metadata": {},
   "outputs": [],
   "source": [
    "# Make data arrays \n",
    "Y = [1 for _ in above]\n",
    "D = [x for x in above]\n",
    "for x in below\n",
    "    push!(D, x)\n",
    "    push!(Y, -1)\n",
    "end"
   ]
  },
  {
   "cell_type": "code",
   "execution_count": null,
   "metadata": {},
   "outputs": [],
   "source": [
    "# Assign random weights\n",
    "w = rand(3)\n",
    "\n",
    "# Perceptron Hypothesis Function \n",
    "function h(w, x)\n",
    "    x_new = [1.0, x[1], x[2]]\n",
    "    return w'x_new > 0 ? 1 : -1\n",
    "end\n",
    "\n",
    "# Perceptron Learning Algorithm \n",
    "function PLA!(w, x, y)\n",
    "    if h(w, x) != y\n",
    "        w += y*[1.0, x[1], x[2]]\n",
    "    end\n",
    "end"
   ]
  },
  {
   "cell_type": "code",
   "execution_count": null,
   "metadata": {},
   "outputs": [],
   "source": [
    "# Plot the initial hypothesis\n",
    "plot!(x -> -1*(w[2]/w[3])*x - (w[1]/w[3]), label=\"h1 approximation\")"
   ]
  }
 ],
 "metadata": {
  "kernelspec": {
   "display_name": "Julia 1.0.3",
   "language": "julia",
   "name": "julia-1.0"
  },
  "language_info": {
   "file_extension": ".jl",
   "mimetype": "application/julia",
   "name": "julia",
   "version": "1.0.3"
  }
 },
 "nbformat": 4,
 "nbformat_minor": 2
}
