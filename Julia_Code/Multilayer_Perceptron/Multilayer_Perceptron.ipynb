{
 "cells": [
  {
   "cell_type": "markdown",
   "metadata": {},
   "source": [
    "# Multi-Layer Perceptron"
   ]
  },
  {
   "cell_type": "markdown",
   "metadata": {},
   "source": [
    "Importing packages and loading data:"
   ]
  },
  {
   "cell_type": "code",
   "execution_count": 32,
   "metadata": {},
   "outputs": [
    {
     "data": {
      "text/html": [
       "<table class=\"data-frame\"><thead><tr><th></th><th>SepalLength</th><th>SepalWidth</th><th>PetalLength</th><th>PetalWidth</th><th>Species</th></tr><tr><th></th><th>Float64⍰</th><th>Float64⍰</th><th>Float64⍰</th><th>Float64⍰</th><th>String⍰</th></tr></thead><tbody><p>150 rows × 5 columns</p><tr><th>1</th><td>5.9</td><td>3.0</td><td>4.2</td><td>1.5</td><td>versicolor</td></tr><tr><th>2</th><td>5.6</td><td>3.0</td><td>4.1</td><td>1.3</td><td>versicolor</td></tr><tr><th>3</th><td>7.1</td><td>3.0</td><td>5.9</td><td>2.1</td><td>virginica</td></tr><tr><th>4</th><td>4.6</td><td>3.2</td><td>1.4</td><td>0.2</td><td>setosa</td></tr><tr><th>5</th><td>6.8</td><td>3.2</td><td>5.9</td><td>2.3</td><td>virginica</td></tr><tr><th>6</th><td>6.1</td><td>3.0</td><td>4.9</td><td>1.8</td><td>virginica</td></tr><tr><th>7</th><td>6.3</td><td>2.9</td><td>5.6</td><td>1.8</td><td>virginica</td></tr><tr><th>8</th><td>6.5</td><td>3.2</td><td>5.1</td><td>2.0</td><td>virginica</td></tr><tr><th>9</th><td>5.4</td><td>3.9</td><td>1.7</td><td>0.4</td><td>setosa</td></tr><tr><th>10</th><td>5.0</td><td>3.3</td><td>1.4</td><td>0.2</td><td>setosa</td></tr><tr><th>11</th><td>5.0</td><td>2.3</td><td>3.3</td><td>1.0</td><td>versicolor</td></tr><tr><th>12</th><td>7.7</td><td>2.6</td><td>6.9</td><td>2.3</td><td>virginica</td></tr><tr><th>13</th><td>5.8</td><td>2.7</td><td>5.1</td><td>1.9</td><td>virginica</td></tr><tr><th>14</th><td>5.4</td><td>3.0</td><td>4.5</td><td>1.5</td><td>versicolor</td></tr><tr><th>15</th><td>6.5</td><td>3.0</td><td>5.8</td><td>2.2</td><td>virginica</td></tr><tr><th>16</th><td>5.9</td><td>3.0</td><td>5.1</td><td>1.8</td><td>virginica</td></tr><tr><th>17</th><td>5.6</td><td>2.7</td><td>4.2</td><td>1.3</td><td>versicolor</td></tr><tr><th>18</th><td>6.3</td><td>2.8</td><td>5.1</td><td>1.5</td><td>virginica</td></tr><tr><th>19</th><td>6.1</td><td>2.8</td><td>4.7</td><td>1.2</td><td>versicolor</td></tr><tr><th>20</th><td>6.2</td><td>2.2</td><td>4.5</td><td>1.5</td><td>versicolor</td></tr><tr><th>21</th><td>6.0</td><td>2.2</td><td>5.0</td><td>1.5</td><td>virginica</td></tr><tr><th>22</th><td>5.5</td><td>2.4</td><td>3.8</td><td>1.1</td><td>versicolor</td></tr><tr><th>23</th><td>7.2</td><td>3.2</td><td>6.0</td><td>1.8</td><td>virginica</td></tr><tr><th>24</th><td>7.7</td><td>3.8</td><td>6.7</td><td>2.2</td><td>virginica</td></tr><tr><th>25</th><td>6.0</td><td>2.9</td><td>4.5</td><td>1.5</td><td>versicolor</td></tr><tr><th>26</th><td>5.1</td><td>3.5</td><td>1.4</td><td>0.2</td><td>setosa</td></tr><tr><th>27</th><td>5.5</td><td>2.4</td><td>3.7</td><td>1.0</td><td>versicolor</td></tr><tr><th>28</th><td>5.0</td><td>3.4</td><td>1.6</td><td>0.4</td><td>setosa</td></tr><tr><th>29</th><td>5.2</td><td>3.4</td><td>1.4</td><td>0.2</td><td>setosa</td></tr><tr><th>30</th><td>4.9</td><td>3.0</td><td>1.4</td><td>0.2</td><td>setosa</td></tr><tr><th>&vellip;</th><td>&vellip;</td><td>&vellip;</td><td>&vellip;</td><td>&vellip;</td><td>&vellip;</td></tr></tbody></table>"
      ],
      "text/latex": [
       "\\begin{tabular}{r|ccccc}\n",
       "\t& SepalLength & SepalWidth & PetalLength & PetalWidth & Species\\\\\n",
       "\t\\hline\n",
       "\t& Float64⍰ & Float64⍰ & Float64⍰ & Float64⍰ & String⍰\\\\\n",
       "\t\\hline\n",
       "\t1 & 5.9 & 3.0 & 4.2 & 1.5 & versicolor \\\\\n",
       "\t2 & 5.6 & 3.0 & 4.1 & 1.3 & versicolor \\\\\n",
       "\t3 & 7.1 & 3.0 & 5.9 & 2.1 & virginica \\\\\n",
       "\t4 & 4.6 & 3.2 & 1.4 & 0.2 & setosa \\\\\n",
       "\t5 & 6.8 & 3.2 & 5.9 & 2.3 & virginica \\\\\n",
       "\t6 & 6.1 & 3.0 & 4.9 & 1.8 & virginica \\\\\n",
       "\t7 & 6.3 & 2.9 & 5.6 & 1.8 & virginica \\\\\n",
       "\t8 & 6.5 & 3.2 & 5.1 & 2.0 & virginica \\\\\n",
       "\t9 & 5.4 & 3.9 & 1.7 & 0.4 & setosa \\\\\n",
       "\t10 & 5.0 & 3.3 & 1.4 & 0.2 & setosa \\\\\n",
       "\t11 & 5.0 & 2.3 & 3.3 & 1.0 & versicolor \\\\\n",
       "\t12 & 7.7 & 2.6 & 6.9 & 2.3 & virginica \\\\\n",
       "\t13 & 5.8 & 2.7 & 5.1 & 1.9 & virginica \\\\\n",
       "\t14 & 5.4 & 3.0 & 4.5 & 1.5 & versicolor \\\\\n",
       "\t15 & 6.5 & 3.0 & 5.8 & 2.2 & virginica \\\\\n",
       "\t16 & 5.9 & 3.0 & 5.1 & 1.8 & virginica \\\\\n",
       "\t17 & 5.6 & 2.7 & 4.2 & 1.3 & versicolor \\\\\n",
       "\t18 & 6.3 & 2.8 & 5.1 & 1.5 & virginica \\\\\n",
       "\t19 & 6.1 & 2.8 & 4.7 & 1.2 & versicolor \\\\\n",
       "\t20 & 6.2 & 2.2 & 4.5 & 1.5 & versicolor \\\\\n",
       "\t21 & 6.0 & 2.2 & 5.0 & 1.5 & virginica \\\\\n",
       "\t22 & 5.5 & 2.4 & 3.8 & 1.1 & versicolor \\\\\n",
       "\t23 & 7.2 & 3.2 & 6.0 & 1.8 & virginica \\\\\n",
       "\t24 & 7.7 & 3.8 & 6.7 & 2.2 & virginica \\\\\n",
       "\t25 & 6.0 & 2.9 & 4.5 & 1.5 & versicolor \\\\\n",
       "\t26 & 5.1 & 3.5 & 1.4 & 0.2 & setosa \\\\\n",
       "\t27 & 5.5 & 2.4 & 3.7 & 1.0 & versicolor \\\\\n",
       "\t28 & 5.0 & 3.4 & 1.6 & 0.4 & setosa \\\\\n",
       "\t29 & 5.2 & 3.4 & 1.4 & 0.2 & setosa \\\\\n",
       "\t30 & 4.9 & 3.0 & 1.4 & 0.2 & setosa \\\\\n",
       "\t$\\dots$ & $\\dots$ & $\\dots$ & $\\dots$ & $\\dots$ & $\\dots$ \\\\\n",
       "\\end{tabular}\n"
      ],
      "text/plain": [
       "150×5 DataFrames.DataFrame\n",
       "│ Row │ SepalLength │ SepalWidth │ PetalLength │ PetalWidth │ Species    │\n",
       "│     │ \u001b[90mFloat64⍰\u001b[39m    │ \u001b[90mFloat64⍰\u001b[39m   │ \u001b[90mFloat64⍰\u001b[39m    │ \u001b[90mFloat64⍰\u001b[39m   │ \u001b[90mString⍰\u001b[39m    │\n",
       "├─────┼─────────────┼────────────┼─────────────┼────────────┼────────────┤\n",
       "│ 1   │ 5.9         │ 3.0        │ 4.2         │ 1.5        │ versicolor │\n",
       "│ 2   │ 5.6         │ 3.0        │ 4.1         │ 1.3        │ versicolor │\n",
       "│ 3   │ 7.1         │ 3.0        │ 5.9         │ 2.1        │ virginica  │\n",
       "│ 4   │ 4.6         │ 3.2        │ 1.4         │ 0.2        │ setosa     │\n",
       "│ 5   │ 6.8         │ 3.2        │ 5.9         │ 2.3        │ virginica  │\n",
       "│ 6   │ 6.1         │ 3.0        │ 4.9         │ 1.8        │ virginica  │\n",
       "│ 7   │ 6.3         │ 2.9        │ 5.6         │ 1.8        │ virginica  │\n",
       "│ 8   │ 6.5         │ 3.2        │ 5.1         │ 2.0        │ virginica  │\n",
       "│ 9   │ 5.4         │ 3.9        │ 1.7         │ 0.4        │ setosa     │\n",
       "│ 10  │ 5.0         │ 3.3        │ 1.4         │ 0.2        │ setosa     │\n",
       "⋮\n",
       "│ 140 │ 6.4         │ 3.2        │ 5.3         │ 2.3        │ virginica  │\n",
       "│ 141 │ 6.3         │ 2.5        │ 4.9         │ 1.5        │ versicolor │\n",
       "│ 142 │ 6.4         │ 2.8        │ 5.6         │ 2.2        │ virginica  │\n",
       "│ 143 │ 6.7         │ 3.3        │ 5.7         │ 2.1        │ virginica  │\n",
       "│ 144 │ 5.8         │ 2.6        │ 4.0         │ 1.2        │ versicolor │\n",
       "│ 145 │ 4.4         │ 2.9        │ 1.4         │ 0.2        │ setosa     │\n",
       "│ 146 │ 6.7         │ 3.1        │ 4.7         │ 1.5        │ versicolor │\n",
       "│ 147 │ 6.6         │ 2.9        │ 4.6         │ 1.3        │ versicolor │\n",
       "│ 148 │ 5.5         │ 4.2        │ 1.4         │ 0.2        │ setosa     │\n",
       "│ 149 │ 4.8         │ 3.0        │ 1.4         │ 0.1        │ setosa     │\n",
       "│ 150 │ 5.7         │ 2.8        │ 4.5         │ 1.3        │ versicolor │"
      ]
     },
     "execution_count": 32,
     "metadata": {},
     "output_type": "execute_result"
    }
   ],
   "source": [
    "using CSV, Random\n",
    "\n",
    "iris = CSV.read(\"iris_data.csv\")\n",
    "\n",
    "# Mixing up the data\n",
    "shuff = copy(iris)\n",
    "iris = shuff[shuffle(1:end), :]"
   ]
  },
  {
   "cell_type": "markdown",
   "metadata": {},
   "source": [
    "Organizing the data:"
   ]
  },
  {
   "cell_type": "code",
   "execution_count": 33,
   "metadata": {},
   "outputs": [],
   "source": [
    "# Making empty matrix X to append variable values (width/length, pedal/sepal)\n",
    "X = zeros(4, 150)\n",
    "\n",
    "# Making empty matrix Y to hold the value of which species it is\n",
    "Y = zeros(3, 150)\n",
    "\n",
    "# Filling in the matrices\n",
    "for i = 1:150\n",
    "    for j = 1:4\n",
    "        X[j, i] = iris[i, j]\n",
    "        # Determing species ([1,0,0]=setosa, [0,1,0]=versicolor, [0,0,1]=virginica)\n",
    "        if iris[i, 5] == \"setosa\"\n",
    "            Y[1, i] = 1.0\n",
    "        elseif iris[i, 5] == \"versicolor\"\n",
    "            Y[2, i] = 1.0\n",
    "        else \n",
    "            Y[3, i] = 1.0\n",
    "        end\n",
    "    end\n",
    "end\n"
   ]
  },
  {
   "cell_type": "markdown",
   "metadata": {},
   "source": [
    "Looking at the data that determines species:"
   ]
  },
  {
   "cell_type": "code",
   "execution_count": 34,
   "metadata": {},
   "outputs": [
    {
     "data": {
      "text/plain": [
       "4×150 Array{Float64,2}:\n",
       " 5.9  5.6  7.1  4.6  6.8  6.1  6.3  6.5  …  5.8  4.4  6.7  6.6  5.5  4.8  5.7\n",
       " 3.0  3.0  3.0  3.2  3.2  3.0  2.9  3.2     2.6  2.9  3.1  2.9  4.2  3.0  2.8\n",
       " 4.2  4.1  5.9  1.4  5.9  4.9  5.6  5.1     4.0  1.4  4.7  4.6  1.4  1.4  4.5\n",
       " 1.5  1.3  2.1  0.2  2.3  1.8  1.8  2.0     1.2  0.2  1.5  1.3  0.2  0.1  1.3"
      ]
     },
     "execution_count": 34,
     "metadata": {},
     "output_type": "execute_result"
    }
   ],
   "source": [
    "X"
   ]
  },
  {
   "cell_type": "markdown",
   "metadata": {},
   "source": [
    "Looking at the values of the species ($[1,0,0]^T=setosa, [0,1,0]^T=versicolor, [0,0,1]^T=virginica$):"
   ]
  },
  {
   "cell_type": "code",
   "execution_count": 35,
   "metadata": {},
   "outputs": [
    {
     "data": {
      "text/plain": [
       "3×150 Array{Float64,2}:\n",
       " 0.0  0.0  0.0  1.0  0.0  0.0  0.0  0.0  …  0.0  1.0  0.0  0.0  1.0  1.0  0.0\n",
       " 1.0  1.0  0.0  0.0  0.0  0.0  0.0  0.0     1.0  0.0  1.0  1.0  0.0  0.0  1.0\n",
       " 0.0  0.0  1.0  0.0  1.0  1.0  1.0  1.0     0.0  0.0  0.0  0.0  0.0  0.0  0.0"
      ]
     },
     "execution_count": 35,
     "metadata": {},
     "output_type": "execute_result"
    }
   ],
   "source": [
    "Y"
   ]
  },
  {
   "cell_type": "markdown",
   "metadata": {},
   "source": [
    "Creating the sigmoid function:\n",
    "    $$\\sigma(s)= \\frac{1}{1+e^{-s}}$$"
   ]
  },
  {
   "cell_type": "code",
   "execution_count": 36,
   "metadata": {},
   "outputs": [
    {
     "data": {
      "text/plain": [
       "σ (generic function with 1 method)"
      ]
     },
     "execution_count": 36,
     "metadata": {},
     "output_type": "execute_result"
    }
   ],
   "source": [
    "σ(s) = 1/(1+exp(-s))"
   ]
  },
  {
   "cell_type": "markdown",
   "metadata": {},
   "source": [
    "Taking the derivative of the Sigmoid function:\n",
    "$$\\frac{\\delta \\sigma(x)}{\\delta(x)}=\\sigma(x)*(1-\\sigma(x))$$"
   ]
  },
  {
   "cell_type": "code",
   "execution_count": 37,
   "metadata": {},
   "outputs": [
    {
     "data": {
      "text/plain": [
       "dσ (generic function with 1 method)"
      ]
     },
     "execution_count": 37,
     "metadata": {},
     "output_type": "execute_result"
    }
   ],
   "source": [
    "dσ(s) = σ(s)*(1 - σ(s))"
   ]
  },
  {
   "cell_type": "markdown",
   "metadata": {},
   "source": [
    "Defining the softmax function:\n",
    "$$\\sigma(a)_i= \\frac{e^{a_i}}{\\sum_{j=1}^K e^{a_j}}$$"
   ]
  },
  {
   "cell_type": "code",
   "execution_count": 40,
   "metadata": {},
   "outputs": [
    {
     "data": {
      "text/plain": [
       "softmax (generic function with 1 method)"
      ]
     },
     "execution_count": 40,
     "metadata": {},
     "output_type": "execute_result"
    }
   ],
   "source": [
    "softmax(a, i) = exp(a[i]) / (sum(exp(a[j]) for j = 1:length(a)))"
   ]
  },
  {
   "cell_type": "markdown",
   "metadata": {},
   "source": [
    "Cross-entropy loss function:\n",
    "$$H(p,q)=-\\sum_{x \\in X}p(x) \\log q(x)$$"
   ]
  },
  {
   "cell_type": "code",
   "execution_count": 41,
   "metadata": {},
   "outputs": [
    {
     "data": {
      "text/plain": [
       "L (generic function with 1 method)"
      ]
     },
     "execution_count": 41,
     "metadata": {},
     "output_type": "execute_result"
    }
   ],
   "source": [
    "L(O, y) = -sum(y[i]*log(O[i]) for i = 1:length(y))"
   ]
  },
  {
   "cell_type": "markdown",
   "metadata": {},
   "source": [
    "Hadamard product:\n",
    "$$(A \\circ B)_{ij}$$"
   ]
  },
  {
   "cell_type": "code",
   "execution_count": 42,
   "metadata": {},
   "outputs": [
    {
     "data": {
      "text/plain": [
       "hadamard (generic function with 1 method)"
      ]
     },
     "execution_count": 42,
     "metadata": {},
     "output_type": "execute_result"
    }
   ],
   "source": [
    "hadamard(x, y) = [x[i]*y[i] for i = 1:length(x)]"
   ]
  },
  {
   "cell_type": "markdown",
   "metadata": {},
   "source": [
    "Defining our forward-propagation function:"
   ]
  },
  {
   "cell_type": "code",
   "execution_count": 43,
   "metadata": {},
   "outputs": [
    {
     "data": {
      "text/plain": [
       "forward_propagation (generic function with 1 method)"
      ]
     },
     "execution_count": 43,
     "metadata": {},
     "output_type": "execute_result"
    }
   ],
   "source": [
    "function forward_propagation(x, y, W, b)\n",
    "    a1 = copy(x)\n",
    "    z2 = W[1]*a1 + b[1]\n",
    "    a2 = σ.(z2)\n",
    "    \n",
    "    z3 = W[2]*a2 + b[2]\n",
    "    a3 = σ.(z3)\n",
    "    \n",
    "    z4 = W[3]*a3 + b[3]\n",
    "    a4 = σ.(z4)\n",
    "    \n",
    "    a = [a1, a2, a3, a4]\n",
    "    z = [[0,0], z2, z3, z4]\n",
    "    O = [softmax(a4, i) for i = 1:length(a4)]\n",
    "    loss = L(O, y)\n",
    "    return a, z, O, loss\n",
    "end\n",
    "\n",
    "    "
   ]
  },
  {
   "cell_type": "markdown",
   "metadata": {},
   "source": [
    "Defining the back-propagation function:"
   ]
  },
  {
   "cell_type": "code",
   "execution_count": 45,
   "metadata": {},
   "outputs": [
    {
     "data": {
      "text/plain": [
       "gradient_descent! (generic function with 1 method)"
      ]
     },
     "execution_count": 45,
     "metadata": {},
     "output_type": "execute_result"
    }
   ],
   "source": [
    "function back_propagation(x, y, W, b)\n",
    "    a, z, O, loss = forward_propagation(x, y, W, b)\n",
    "    δ4 = a[4] - y\n",
    "    δ3 = hadamard(W[3]'*δ4, dσ.(z[3]))\n",
    "    δ2 = hadamard(W[2]'*δ3, dσ.(z[2]))\n",
    "    δ = [[0,0], δ2, δ3, δ4]\n",
    "    return a, δ\n",
    "end\n",
    "\n",
    "function ∇L(x, y, W, b)\n",
    "    \n",
    "    a, δ = back_propagation(x, y, W, b)\n",
    "    \n",
    "    db1 = copy(δ[2])\n",
    "    db2 = copy(δ[3])\n",
    "    db3 = copy(δ[4])\n",
    "    \n",
    "    dW1 = δ[2]*a[1]'\n",
    "    dW2 = δ[3]*a[2]'\n",
    "    dW3 = δ[4]*a[3]'\n",
    "    return [db1, db2, db3], [dW1, dW2, dW3]\n",
    "end\n",
    "\n",
    "function gradient_descent!(x, y, W, b, α)\n",
    "    db, dW = ∇L(x, y, W, b)\n",
    "    for i = 1:length(W)\n",
    "        W[i] -= α*dW[i]\n",
    "        b[i] -= α*b[i]\n",
    "    end\n",
    "end\n",
    "\n",
    "    "
   ]
  },
  {
   "cell_type": "markdown",
   "metadata": {},
   "source": [
    "Initializing weight matrix:"
   ]
  },
  {
   "cell_type": "code",
   "execution_count": 46,
   "metadata": {},
   "outputs": [
    {
     "data": {
      "text/plain": [
       "3-element Array{Array{Float64,2},1}:\n",
       " [0.633555 0.795808 0.917386 0.85992; 0.506258 0.214103 0.117201 0.338488; … ; 0.536134 0.216063 0.560318 0.441008; 0.793006 0.43241 0.242829 0.948146]           \n",
       " [0.93937 0.141083 … 0.729494 0.664136; 0.526831 0.249844 … 0.581573 0.688685; … ; 0.712343 0.985957 … 0.19891 0.237783; 0.0651416 0.506037 … 0.00524659 0.389204]\n",
       " [0.765946 0.669653 … 0.621225 0.489132; 0.359094 0.928174 … 0.748754 0.359898; 0.00272376 0.266011 … 0.357457 0.163997]                                          "
      ]
     },
     "execution_count": 46,
     "metadata": {},
     "output_type": "execute_result"
    }
   ],
   "source": [
    "W1 = rand(5, 4)\n",
    "W2 = rand(5, 5)\n",
    "W3 = rand(3, 5)\n",
    "W = [W1, W2, W3]"
   ]
  },
  {
   "cell_type": "markdown",
   "metadata": {
    "slideshow": {
     "slide_type": "slide"
    }
   },
   "source": [
    "Initializing bias matrix:"
   ]
  },
  {
   "cell_type": "code",
   "execution_count": 47,
   "metadata": {},
   "outputs": [
    {
     "data": {
      "text/plain": [
       "3-element Array{Array{Float64,1},1}:\n",
       " [-1.0, -1.0, -1.0, -1.0, -1.0]\n",
       " [-1.0, -1.0, -1.0, -1.0, -1.0]\n",
       " [-1.0, -1.0, -1.0]            "
      ]
     },
     "execution_count": 47,
     "metadata": {},
     "output_type": "execute_result"
    }
   ],
   "source": [
    "b1 = -1*ones(5)\n",
    "b2 = -1*ones(5)\n",
    "b3 = -1*ones(3)\n",
    "b = [b1, b2, b3]"
   ]
  },
  {
   "cell_type": "code",
   "execution_count": 48,
   "metadata": {},
   "outputs": [],
   "source": [
    "for _ in 1:1000000\n",
    "    j = rand(1:50)\n",
    "    gradient_descent!(X[:,j], Y[:,j], W, b, 0.37) # The last number is alpha which is our step length\n",
    "end"
   ]
  },
  {
   "cell_type": "markdown",
   "metadata": {},
   "source": [
    "Testing our forward_propagation function:"
   ]
  },
  {
   "cell_type": "code",
   "execution_count": 49,
   "metadata": {},
   "outputs": [
    {
     "data": {
      "text/plain": [
       "([0.320118, 0.330287, 0.349595], 1.1077925290535202)"
      ]
     },
     "execution_count": 49,
     "metadata": {},
     "output_type": "execute_result"
    }
   ],
   "source": [
    "forward_propagation(X[:,110], Y[:,110], W, b)[3:4]"
   ]
  },
  {
   "cell_type": "markdown",
   "metadata": {},
   "source": [
    "Checking the result:"
   ]
  },
  {
   "cell_type": "code",
   "execution_count": 50,
   "metadata": {},
   "outputs": [
    {
     "data": {
      "text/plain": [
       "3-element Array{Float64,1}:\n",
       " 0.0\n",
       " 1.0\n",
       " 0.0"
      ]
     },
     "execution_count": 50,
     "metadata": {},
     "output_type": "execute_result"
    }
   ],
   "source": [
    "Y[:, 20]"
   ]
  },
  {
   "cell_type": "markdown",
   "metadata": {},
   "source": [
    "Another way to randomize the data:"
   ]
  },
  {
   "cell_type": "code",
   "execution_count": 51,
   "metadata": {},
   "outputs": [],
   "source": [
    "train_data = zeros(4, 100)\n",
    "train_label = zeros(3, 100)\n",
    "\n",
    "for i in 1:100\n",
    "    j = rand(1:3)\n",
    "    if j == 1\n",
    "        k = rand(1:50)\n",
    "        train_data[:, i] = copy(X[:, k])\n",
    "        train_label[:, i] = copy(Y[:,k])\n",
    "    elseif j == 2\n",
    "        k = rand(50:100)\n",
    "        train_data[:, i] = copy(X[:, k])\n",
    "        train_label[:, i] = copy(Y[:,k])\n",
    "    else\n",
    "        k = rand(100:150)\n",
    "        train_data[:, i] = copy(X[:, k])\n",
    "        train_label[:, i] = copy(Y[:,k])\n",
    "    end\n",
    "end\n"
   ]
  },
  {
   "cell_type": "markdown",
   "metadata": {},
   "source": [
    "Defining the Mini-Batch Gradient Descent:"
   ]
  },
  {
   "cell_type": "code",
   "execution_count": 52,
   "metadata": {},
   "outputs": [
    {
     "data": {
      "text/plain": [
       "mini_batch_∇L (generic function with 1 method)"
      ]
     },
     "execution_count": 52,
     "metadata": {},
     "output_type": "execute_result"
    }
   ],
   "source": [
    "function mini_batch_∇L(train_data, train_label, W, b, m)\n",
    "    \n",
    "    i = rand(1:100)\n",
    "    a, δ = back_propagation(train_data[:, i], train_label[:,i], W, b)\n",
    "    \n",
    "    db1 = (δ[2])\n",
    "    db2 = (δ[3])\n",
    "    db3 = (δ[4])\n",
    "    \n",
    "    dW1 = δ[2]*a[1]'\n",
    "    dW2 = δ[3]*a[2]'\n",
    "    dW3 = δ[4]*a[3]'\n",
    "    \n",
    "    for _ in 1:m\n",
    "        j = rand(1:100)\n",
    "        a, δ = back_propagation(train_data[:, j], train_label[:,j], W, b)\n",
    "        \n",
    "        db1 += copy(δ[2])\n",
    "        db2 += copy(δ[3])\n",
    "        db3 += copy(δ[4])\n",
    "    \n",
    "        dW1 += δ[2]*a[1]'\n",
    "        dW2 += δ[3]*a[2]'\n",
    "        dW3 += δ[4]*a[3]'\n",
    "    end\n",
    "    \n",
    "    return [db1/m, db2/m, db3/m], [dW1/m, dW2/m, dW3/m]\n",
    "end"
   ]
  },
  {
   "cell_type": "markdown",
   "metadata": {},
   "source": [
    "Calculating the error and updating the model:"
   ]
  },
  {
   "cell_type": "code",
   "execution_count": 55,
   "metadata": {},
   "outputs": [
    {
     "data": {
      "text/plain": [
       "stochastic_gradient_descent! (generic function with 1 method)"
      ]
     },
     "execution_count": 55,
     "metadata": {},
     "output_type": "execute_result"
    }
   ],
   "source": [
    "function stochastic_gradient_descent!(train_data, train_label, W, b, α, m)\n",
    "    db, dW = mini_batch_∇L(train_data, train_label, W, b, m)\n",
    "\n",
    "    for i = 1:length(W)\n",
    "        W[i] -= α*dW[i]\n",
    "        b[i] -= α*b[i]\n",
    "    end\n",
    "end\n"
   ]
  },
  {
   "cell_type": "code",
   "execution_count": 56,
   "metadata": {},
   "outputs": [],
   "source": [
    "# # Initialize weight matrices\n",
    "# W1 = rand(5, 4)\n",
    "# W2 = rand(5, 5)\n",
    "# W3 = rand(3, 5)\n",
    "# W = [W1, W2, W3]\n",
    "\n",
    "# # Initialize the bias\n",
    "# b1 = -1*ones(5)\n",
    "# b2 = -1*ones(5)\n",
    "# b3 = -1*ones(3)\n",
    "# b = [b1, b2, b3]"
   ]
  },
  {
   "cell_type": "code",
   "execution_count": 57,
   "metadata": {},
   "outputs": [],
   "source": [
    "for _ in 1:1000000\n",
    "    stochastic_gradient_descent!(train_data, train_label, W, b, 0.38, 23)\n",
    "end"
   ]
  },
  {
   "cell_type": "code",
   "execution_count": 58,
   "metadata": {},
   "outputs": [
    {
     "data": {
      "text/plain": [
       "([0.308698, 0.331472, 0.359831], 1.1753924827844906)"
      ]
     },
     "execution_count": 58,
     "metadata": {},
     "output_type": "execute_result"
    }
   ],
   "source": [
    "forward_propagation(X[:,86], Y[:,145], W, b)[3:4]"
   ]
  },
  {
   "cell_type": "code",
   "execution_count": 59,
   "metadata": {},
   "outputs": [],
   "source": [
    "using MLDatasets, Images, TestImages"
   ]
  },
  {
   "cell_type": "code",
   "execution_count": 61,
   "metadata": {},
   "outputs": [],
   "source": [
    "train_x, train_y = MNIST.traindata()\n",
    "test_x, test_y = MNIST.testdata();"
   ]
  },
  {
   "cell_type": "code",
   "execution_count": 62,
   "metadata": {},
   "outputs": [],
   "source": [
    "X = []\n",
    "Y = []\n",
    "\n",
    "for i = 1:60000\n",
    "    push!(X, reshape(train_x[:, :, i], 784))\n",
    "    y = zeros(10)\n",
    "    y[train_y[i]+1] = 1\n",
    "    push!(Y, y)\n",
    "end"
   ]
  },
  {
   "cell_type": "code",
   "execution_count": 63,
   "metadata": {},
   "outputs": [],
   "source": [
    "train_x = zeros(784, 60000)\n",
    "train_y = zeros(10, 60000)\n",
    "\n",
    "for i = 1:60000\n",
    "    train_x[:, 1] = X[i]\n",
    "    train_y[:, i] = Y[i]\n",
    "end"
   ]
  },
  {
   "cell_type": "code",
   "execution_count": 66,
   "metadata": {},
   "outputs": [],
   "source": [
    "for _ in 1:10000\n",
    "    stochastic_gradient_descent!(train_data, train_label, W, b, 0.30, 23)\n",
    "end"
   ]
  },
  {
   "cell_type": "code",
   "execution_count": null,
   "metadata": {},
   "outputs": [],
   "source": []
  }
 ],
 "metadata": {
  "kernelspec": {
   "display_name": "Julia 1.0.3",
   "language": "julia",
   "name": "julia-1.0"
  },
  "language_info": {
   "file_extension": ".jl",
   "mimetype": "application/julia",
   "name": "julia",
   "version": "1.0.3"
  }
 },
 "nbformat": 4,
 "nbformat_minor": 2
}
