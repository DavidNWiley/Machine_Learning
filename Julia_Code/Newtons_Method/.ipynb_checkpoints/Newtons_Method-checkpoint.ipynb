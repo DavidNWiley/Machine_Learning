{
 "cells": [
  {
   "cell_type": "code",
   "execution_count": 2,
   "metadata": {},
   "outputs": [],
   "source": [
    "using Plots"
   ]
  },
  {
   "cell_type": "code",
   "execution_count": 20,
   "metadata": {},
   "outputs": [
    {
     "data": {
      "text/plain": [
       "f (generic function with 1 method)"
      ]
     },
     "execution_count": 20,
     "metadata": {},
     "output_type": "execute_result"
    }
   ],
   "source": [
    "# Gradient Descent\n",
    "# Used to find local minimums\n",
    "\n",
    "f(x) = x^2 - 2"
   ]
  },
  {
   "cell_type": "code",
   "execution_count": 4,
   "metadata": {},
   "outputs": [
    {
     "data": {
      "text/plain": [
       "df (generic function with 1 method)"
      ]
     },
     "execution_count": 4,
     "metadata": {},
     "output_type": "execute_result"
    }
   ],
   "source": [
    "df(f, x, ϵ) = (f(x+ϵ) - f(x)) / ϵ"
   ]
  },
  {
   "cell_type": "code",
   "execution_count": 6,
   "metadata": {},
   "outputs": [
    {
     "data": {
      "text/plain": [
       "4.000000091153311"
      ]
     },
     "execution_count": 6,
     "metadata": {},
     "output_type": "execute_result"
    }
   ],
   "source": [
    "df(f, 2.0, 0.0000001)"
   ]
  },
  {
   "cell_type": "code",
   "execution_count": 7,
   "metadata": {},
   "outputs": [
    {
     "data": {
      "text/plain": [
       "Newtons_Method (generic function with 1 method)"
      ]
     },
     "execution_count": 7,
     "metadata": {},
     "output_type": "execute_result"
    }
   ],
   "source": [
    "function Newtons_Method(f, x_guess, ϵ)\n",
    "    x_old = x_guess\n",
    "    x_new = x_old - f(x_old)/df(f, x_old, 0.00001)\n",
    "    \n",
    "    while abs(x_new - x_old) > ϵ\n",
    "        x_old, x_new = x_new, x_new - f(x_new)/df(f, x_new, 0.00001)\n",
    "    end\n",
    "    return x_new\n",
    "end\n",
    "\n",
    "    \n",
    "    "
   ]
  },
  {
   "cell_type": "code",
   "execution_count": 8,
   "metadata": {},
   "outputs": [
    {
     "data": {
      "text/plain": [
       "1.4142135623731877"
      ]
     },
     "execution_count": 8,
     "metadata": {},
     "output_type": "execute_result"
    }
   ],
   "source": [
    "Newtons_Method(f, 10000, 0.00001)"
   ]
  },
  {
   "cell_type": "code",
   "execution_count": 9,
   "metadata": {},
   "outputs": [
    {
     "data": {
      "text/plain": [
       "f (generic function with 1 method)"
      ]
     },
     "execution_count": 9,
     "metadata": {},
     "output_type": "execute_result"
    }
   ],
   "source": [
    "f(x) = (x-2)^2 - 4"
   ]
  },
  {
   "cell_type": "code",
   "execution_count": 13,
   "metadata": {},
   "outputs": [
    {
     "data": {
      "image/svg+xml": [
       "<?xml version=\"1.0\" encoding=\"utf-8\"?>\n",
       "<svg xmlns=\"http://www.w3.org/2000/svg\" xmlns:xlink=\"http://www.w3.org/1999/xlink\" width=\"600\" height=\"400\" viewBox=\"0 0 2400 1600\">\n",
       "<defs>\n",
       "  <clipPath id=\"clip4000\">\n",
       "    <rect x=\"0\" y=\"0\" width=\"2000\" height=\"2000\"/>\n",
       "  </clipPath>\n",
       "</defs>\n",
       "<defs>\n",
       "  <clipPath id=\"clip4001\">\n",
       "    <rect x=\"0\" y=\"0\" width=\"2400\" height=\"1600\"/>\n",
       "  </clipPath>\n",
       "</defs>\n",
       "<polygon clip-path=\"url(#clip4001)\" points=\"\n",
       "0,1600 2400,1600 2400,0 0,0 \n",
       "  \" fill=\"#ffffff\" fill-rule=\"evenodd\" fill-opacity=\"1\"/>\n",
       "<defs>\n",
       "  <clipPath id=\"clip4002\">\n",
       "    <rect x=\"480\" y=\"0\" width=\"1681\" height=\"1600\"/>\n",
       "  </clipPath>\n",
       "</defs>\n",
       "<polygon clip-path=\"url(#clip4001)\" points=\"\n",
       "148.013,1503.47 2321.26,1503.47 2321.26,47.2441 148.013,47.2441 \n",
       "  \" fill=\"#ffffff\" fill-rule=\"evenodd\" fill-opacity=\"1\"/>\n",
       "<defs>\n",
       "  <clipPath id=\"clip4003\">\n",
       "    <rect x=\"148\" y=\"47\" width=\"2174\" height=\"1457\"/>\n",
       "  </clipPath>\n",
       "</defs>\n",
       "<polyline clip-path=\"url(#clip4003)\" style=\"stroke:#000000; stroke-width:2; stroke-opacity:0.1; fill:none\" points=\"\n",
       "  614.102,1503.47 614.102,47.2441 \n",
       "  \"/>\n",
       "<polyline clip-path=\"url(#clip4003)\" style=\"stroke:#000000; stroke-width:2; stroke-opacity:0.1; fill:none\" points=\"\n",
       "  1132.49,1503.47 1132.49,47.2441 \n",
       "  \"/>\n",
       "<polyline clip-path=\"url(#clip4003)\" style=\"stroke:#000000; stroke-width:2; stroke-opacity:0.1; fill:none\" points=\"\n",
       "  1650.87,1503.47 1650.87,47.2441 \n",
       "  \"/>\n",
       "<polyline clip-path=\"url(#clip4003)\" style=\"stroke:#000000; stroke-width:2; stroke-opacity:0.1; fill:none\" points=\"\n",
       "  2169.25,1503.47 2169.25,47.2441 \n",
       "  \"/>\n",
       "<polyline clip-path=\"url(#clip4003)\" style=\"stroke:#000000; stroke-width:2; stroke-opacity:0.1; fill:none\" points=\"\n",
       "  148.013,1306.35 2321.26,1306.35 \n",
       "  \"/>\n",
       "<polyline clip-path=\"url(#clip4003)\" style=\"stroke:#000000; stroke-width:2; stroke-opacity:0.1; fill:none\" points=\"\n",
       "  148.013,916.518 2321.26,916.518 \n",
       "  \"/>\n",
       "<polyline clip-path=\"url(#clip4003)\" style=\"stroke:#000000; stroke-width:2; stroke-opacity:0.1; fill:none\" points=\"\n",
       "  148.013,526.687 2321.26,526.687 \n",
       "  \"/>\n",
       "<polyline clip-path=\"url(#clip4003)\" style=\"stroke:#000000; stroke-width:2; stroke-opacity:0.1; fill:none\" points=\"\n",
       "  148.013,136.855 2321.26,136.855 \n",
       "  \"/>\n",
       "<polyline clip-path=\"url(#clip4001)\" style=\"stroke:#000000; stroke-width:4; stroke-opacity:1; fill:none\" points=\"\n",
       "  148.013,1503.47 2321.26,1503.47 \n",
       "  \"/>\n",
       "<polyline clip-path=\"url(#clip4001)\" style=\"stroke:#000000; stroke-width:4; stroke-opacity:1; fill:none\" points=\"\n",
       "  148.013,1503.47 148.013,47.2441 \n",
       "  \"/>\n",
       "<polyline clip-path=\"url(#clip4001)\" style=\"stroke:#000000; stroke-width:4; stroke-opacity:1; fill:none\" points=\"\n",
       "  614.102,1503.47 614.102,1481.63 \n",
       "  \"/>\n",
       "<polyline clip-path=\"url(#clip4001)\" style=\"stroke:#000000; stroke-width:4; stroke-opacity:1; fill:none\" points=\"\n",
       "  1132.49,1503.47 1132.49,1481.63 \n",
       "  \"/>\n",
       "<polyline clip-path=\"url(#clip4001)\" style=\"stroke:#000000; stroke-width:4; stroke-opacity:1; fill:none\" points=\"\n",
       "  1650.87,1503.47 1650.87,1481.63 \n",
       "  \"/>\n",
       "<polyline clip-path=\"url(#clip4001)\" style=\"stroke:#000000; stroke-width:4; stroke-opacity:1; fill:none\" points=\"\n",
       "  2169.25,1503.47 2169.25,1481.63 \n",
       "  \"/>\n",
       "<polyline clip-path=\"url(#clip4001)\" style=\"stroke:#000000; stroke-width:4; stroke-opacity:1; fill:none\" points=\"\n",
       "  148.013,1306.35 180.612,1306.35 \n",
       "  \"/>\n",
       "<polyline clip-path=\"url(#clip4001)\" style=\"stroke:#000000; stroke-width:4; stroke-opacity:1; fill:none\" points=\"\n",
       "  148.013,916.518 180.612,916.518 \n",
       "  \"/>\n",
       "<polyline clip-path=\"url(#clip4001)\" style=\"stroke:#000000; stroke-width:4; stroke-opacity:1; fill:none\" points=\"\n",
       "  148.013,526.687 180.612,526.687 \n",
       "  \"/>\n",
       "<polyline clip-path=\"url(#clip4001)\" style=\"stroke:#000000; stroke-width:4; stroke-opacity:1; fill:none\" points=\"\n",
       "  148.013,136.855 180.612,136.855 \n",
       "  \"/>\n",
       "<g clip-path=\"url(#clip4001)\">\n",
       "<text style=\"fill:#000000; fill-opacity:1; font-family:Arial,Helvetica Neue,Helvetica,sans-serif; font-size:48px; text-anchor:middle;\" transform=\"rotate(0, 614.102, 1557.47)\" x=\"614.102\" y=\"1557.47\">0.0</text>\n",
       "</g>\n",
       "<g clip-path=\"url(#clip4001)\">\n",
       "<text style=\"fill:#000000; fill-opacity:1; font-family:Arial,Helvetica Neue,Helvetica,sans-serif; font-size:48px; text-anchor:middle;\" transform=\"rotate(0, 1132.49, 1557.47)\" x=\"1132.49\" y=\"1557.47\">2.5</text>\n",
       "</g>\n",
       "<g clip-path=\"url(#clip4001)\">\n",
       "<text style=\"fill:#000000; fill-opacity:1; font-family:Arial,Helvetica Neue,Helvetica,sans-serif; font-size:48px; text-anchor:middle;\" transform=\"rotate(0, 1650.87, 1557.47)\" x=\"1650.87\" y=\"1557.47\">5.0</text>\n",
       "</g>\n",
       "<g clip-path=\"url(#clip4001)\">\n",
       "<text style=\"fill:#000000; fill-opacity:1; font-family:Arial,Helvetica Neue,Helvetica,sans-serif; font-size:48px; text-anchor:middle;\" transform=\"rotate(0, 2169.25, 1557.47)\" x=\"2169.25\" y=\"1557.47\">7.5</text>\n",
       "</g>\n",
       "<g clip-path=\"url(#clip4001)\">\n",
       "<text style=\"fill:#000000; fill-opacity:1; font-family:Arial,Helvetica Neue,Helvetica,sans-serif; font-size:48px; text-anchor:end;\" transform=\"rotate(0, 124.013, 1323.85)\" x=\"124.013\" y=\"1323.85\">0</text>\n",
       "</g>\n",
       "<g clip-path=\"url(#clip4001)\">\n",
       "<text style=\"fill:#000000; fill-opacity:1; font-family:Arial,Helvetica Neue,Helvetica,sans-serif; font-size:48px; text-anchor:end;\" transform=\"rotate(0, 124.013, 934.018)\" x=\"124.013\" y=\"934.018\">10</text>\n",
       "</g>\n",
       "<g clip-path=\"url(#clip4001)\">\n",
       "<text style=\"fill:#000000; fill-opacity:1; font-family:Arial,Helvetica Neue,Helvetica,sans-serif; font-size:48px; text-anchor:end;\" transform=\"rotate(0, 124.013, 544.187)\" x=\"124.013\" y=\"544.187\">20</text>\n",
       "</g>\n",
       "<g clip-path=\"url(#clip4001)\">\n",
       "<text style=\"fill:#000000; fill-opacity:1; font-family:Arial,Helvetica Neue,Helvetica,sans-serif; font-size:48px; text-anchor:end;\" transform=\"rotate(0, 124.013, 154.355)\" x=\"124.013\" y=\"154.355\">30</text>\n",
       "</g>\n",
       "<polyline clip-path=\"url(#clip4003)\" style=\"stroke:#009af9; stroke-width:4; stroke-opacity:1; fill:none\" points=\"\n",
       "  209.52,853.687 219.645,868.636 313.264,998.057 406.883,1111.59 463.144,1172.17 519.405,1227.01 566.974,1268.89 614.542,1306.68 666.214,1343.08 717.886,1374.63 \n",
       "  765.524,1399.43 813.161,1420.12 864.233,1437.72 915.305,1450.6 974.478,1459.61 1033.65,1462.26 1086.24,1459.29 1138.82,1451.31 1184.93,1440.18 1231.05,1425.2 \n",
       "  1281.32,1404.47 1331.6,1379.16 1382.17,1349.07 1432.74,1314.35 1488.66,1270.55 1544.57,1221.09 1597.78,1168.77 1650.98,1111.31 1761.62,975.388 1854.75,843.765 \n",
       "  1911.6,755.686 1968.45,661.745 2021.9,568.094 2075.34,469.264 2160.96,300.135 2246.58,117.712 2259.75,88.4582 \n",
       "  \"/>\n",
       "<polygon clip-path=\"url(#clip4001)\" points=\"\n",
       "1958.43,251.724 2249.26,251.724 2249.26,130.764 1958.43,130.764 \n",
       "  \" fill=\"#ffffff\" fill-rule=\"evenodd\" fill-opacity=\"1\"/>\n",
       "<polyline clip-path=\"url(#clip4001)\" style=\"stroke:#000000; stroke-width:4; stroke-opacity:1; fill:none\" points=\"\n",
       "  1958.43,251.724 2249.26,251.724 2249.26,130.764 1958.43,130.764 1958.43,251.724 \n",
       "  \"/>\n",
       "<polyline clip-path=\"url(#clip4001)\" style=\"stroke:#009af9; stroke-width:4; stroke-opacity:1; fill:none\" points=\"\n",
       "  1982.43,191.244 2126.43,191.244 \n",
       "  \"/>\n",
       "<g clip-path=\"url(#clip4001)\">\n",
       "<text style=\"fill:#000000; fill-opacity:1; font-family:Arial,Helvetica Neue,Helvetica,sans-serif; font-size:48px; text-anchor:start;\" transform=\"rotate(0, 2150.43, 208.744)\" x=\"2150.43\" y=\"208.744\">y1</text>\n",
       "</g>\n",
       "</svg>\n"
      ]
     },
     "execution_count": 13,
     "metadata": {},
     "output_type": "execute_result"
    }
   ],
   "source": [
    "plot(f, -2, 8)"
   ]
  },
  {
   "cell_type": "code",
   "execution_count": 14,
   "metadata": {},
   "outputs": [
    {
     "data": {
      "text/plain": [
       "gradient_descent (generic function with 1 method)"
      ]
     },
     "execution_count": 14,
     "metadata": {},
     "output_type": "execute_result"
    }
   ],
   "source": [
    "# Writing a for loop to get some points\n",
    "\n",
    "function gradient_descent(f, x_guess, number_of_iterations, α)\n",
    "    x_old = x_guess\n",
    "    x_new = x_old - α*df(f, x_old, 0.0001)\n",
    "    \n",
    "    data = [(x_old, f(x_old)), (x_new, f(x_new))] #saving the guesses\n",
    "    \n",
    "    for i = 1:number_of_iterations\n",
    "        x_old, x_new = x_new, x_new - α*df(f, x_new, 0.0001)\n",
    "        push!(data, (x_new, f(x_new)))\n",
    "    end\n",
    "    \n",
    "    return data\n",
    "end\n",
    "\n"
   ]
  },
  {
   "cell_type": "code",
   "execution_count": 17,
   "metadata": {},
   "outputs": [
    {
     "data": {
      "text/plain": [
       "27-element Array{Tuple{Float64,Float64},1}:\n",
       " (350.0, 121100.0)                        \n",
       " (266.47998801781796, 69945.66406190513)  \n",
       " (203.00477890996262, 40398.921144642954) \n",
       " (154.7636199684348, 23332.72358586037)   \n",
       " (118.10033917427063, 13475.28875638068)  \n",
       " (90.23624577166629, 7781.635067877897)   \n",
       " (69.05953478599258, 4492.98120571375)    \n",
       " (52.965234437579056, 2593.455121277394)  \n",
       " (40.73356617191166, 1496.2891483938595)  \n",
       " (31.437498290506483, 862.5663056035721)  \n",
       " (24.372486700895024, 496.5281611817247)  \n",
       " (19.003077892716647, 285.10465782578956) \n",
       " (14.922327198473795, 162.9865402244156)  \n",
       " ⋮                                        \n",
       " (7.672563453076009, 28.177976129173615)  \n",
       " (6.31113622434043, 14.58589554482026)    \n",
       " (5.276451530504289, 6.7351346317438985)  \n",
       " (4.490091163184218, 2.200554000968131)   \n",
       " (3.892457284021944, -0.4186054281522873) \n",
       " (3.438255535855461, -1.93142101358112)   \n",
       " (3.093062207249808, -2.8052150110821774) \n",
       " (2.8307152775090216, -3.309912127713109) \n",
       " (2.631331610906429, -3.6014203970702936) \n",
       " (2.479800024288714, -3.7697919366925494) \n",
       " (2.36463601845891, -3.8670405740424334)  \n",
       " (2.2771113740287063, -3.9232092863839223)"
      ]
     },
     "execution_count": 17,
     "metadata": {},
     "output_type": "execute_result"
    }
   ],
   "source": [
    "D1 = gradient_descent(f, 350.0, 25, .12)"
   ]
  },
  {
   "cell_type": "code",
   "execution_count": 19,
   "metadata": {},
   "outputs": [
    {
     "data": {
      "image/svg+xml": [
       "<?xml version=\"1.0\" encoding=\"utf-8\"?>\n",
       "<svg xmlns=\"http://www.w3.org/2000/svg\" xmlns:xlink=\"http://www.w3.org/1999/xlink\" width=\"600\" height=\"400\" viewBox=\"0 0 2400 1600\">\n",
       "<defs>\n",
       "  <clipPath id=\"clip4600\">\n",
       "    <rect x=\"0\" y=\"0\" width=\"2000\" height=\"2000\"/>\n",
       "  </clipPath>\n",
       "</defs>\n",
       "<defs>\n",
       "  <clipPath id=\"clip4601\">\n",
       "    <rect x=\"0\" y=\"0\" width=\"2400\" height=\"1600\"/>\n",
       "  </clipPath>\n",
       "</defs>\n",
       "<polygon clip-path=\"url(#clip4601)\" points=\"\n",
       "0,1600 2400,1600 2400,0 0,0 \n",
       "  \" fill=\"#ffffff\" fill-rule=\"evenodd\" fill-opacity=\"1\"/>\n",
       "<defs>\n",
       "  <clipPath id=\"clip4602\">\n",
       "    <rect x=\"480\" y=\"0\" width=\"1681\" height=\"1600\"/>\n",
       "  </clipPath>\n",
       "</defs>\n",
       "<polygon clip-path=\"url(#clip4601)\" points=\"\n",
       "308.828,1503.47 2321.26,1503.47 2321.26,47.2441 308.828,47.2441 \n",
       "  \" fill=\"#ffffff\" fill-rule=\"evenodd\" fill-opacity=\"1\"/>\n",
       "<defs>\n",
       "  <clipPath id=\"clip4603\">\n",
       "    <rect x=\"308\" y=\"47\" width=\"2013\" height=\"1457\"/>\n",
       "  </clipPath>\n",
       "</defs>\n",
       "<polyline clip-path=\"url(#clip4603)\" style=\"stroke:#000000; stroke-width:2; stroke-opacity:0.1; fill:none\" points=\"\n",
       "  368.724,1503.47 368.724,47.2441 \n",
       "  \"/>\n",
       "<polyline clip-path=\"url(#clip4603)\" style=\"stroke:#000000; stroke-width:2; stroke-opacity:0.1; fill:none\" points=\"\n",
       "  910.318,1503.47 910.318,47.2441 \n",
       "  \"/>\n",
       "<polyline clip-path=\"url(#clip4603)\" style=\"stroke:#000000; stroke-width:2; stroke-opacity:0.1; fill:none\" points=\"\n",
       "  1451.91,1503.47 1451.91,47.2441 \n",
       "  \"/>\n",
       "<polyline clip-path=\"url(#clip4603)\" style=\"stroke:#000000; stroke-width:2; stroke-opacity:0.1; fill:none\" points=\"\n",
       "  1993.51,1503.47 1993.51,47.2441 \n",
       "  \"/>\n",
       "<polyline clip-path=\"url(#clip4603)\" style=\"stroke:#000000; stroke-width:2; stroke-opacity:0.1; fill:none\" points=\"\n",
       "  308.828,1462.22 2321.26,1462.22 \n",
       "  \"/>\n",
       "<polyline clip-path=\"url(#clip4603)\" style=\"stroke:#000000; stroke-width:2; stroke-opacity:0.1; fill:none\" points=\"\n",
       "  308.828,1178.62 2321.26,1178.62 \n",
       "  \"/>\n",
       "<polyline clip-path=\"url(#clip4603)\" style=\"stroke:#000000; stroke-width:2; stroke-opacity:0.1; fill:none\" points=\"\n",
       "  308.828,895.016 2321.26,895.016 \n",
       "  \"/>\n",
       "<polyline clip-path=\"url(#clip4603)\" style=\"stroke:#000000; stroke-width:2; stroke-opacity:0.1; fill:none\" points=\"\n",
       "  308.828,611.416 2321.26,611.416 \n",
       "  \"/>\n",
       "<polyline clip-path=\"url(#clip4603)\" style=\"stroke:#000000; stroke-width:2; stroke-opacity:0.1; fill:none\" points=\"\n",
       "  308.828,327.816 2321.26,327.816 \n",
       "  \"/>\n",
       "<polyline clip-path=\"url(#clip4601)\" style=\"stroke:#000000; stroke-width:4; stroke-opacity:1; fill:none\" points=\"\n",
       "  308.828,1503.47 2321.26,1503.47 \n",
       "  \"/>\n",
       "<polyline clip-path=\"url(#clip4601)\" style=\"stroke:#000000; stroke-width:4; stroke-opacity:1; fill:none\" points=\"\n",
       "  308.828,1503.47 308.828,47.2441 \n",
       "  \"/>\n",
       "<polyline clip-path=\"url(#clip4601)\" style=\"stroke:#000000; stroke-width:4; stroke-opacity:1; fill:none\" points=\"\n",
       "  368.724,1503.47 368.724,1481.63 \n",
       "  \"/>\n",
       "<polyline clip-path=\"url(#clip4601)\" style=\"stroke:#000000; stroke-width:4; stroke-opacity:1; fill:none\" points=\"\n",
       "  910.318,1503.47 910.318,1481.63 \n",
       "  \"/>\n",
       "<polyline clip-path=\"url(#clip4601)\" style=\"stroke:#000000; stroke-width:4; stroke-opacity:1; fill:none\" points=\"\n",
       "  1451.91,1503.47 1451.91,1481.63 \n",
       "  \"/>\n",
       "<polyline clip-path=\"url(#clip4601)\" style=\"stroke:#000000; stroke-width:4; stroke-opacity:1; fill:none\" points=\"\n",
       "  1993.51,1503.47 1993.51,1481.63 \n",
       "  \"/>\n",
       "<polyline clip-path=\"url(#clip4601)\" style=\"stroke:#000000; stroke-width:4; stroke-opacity:1; fill:none\" points=\"\n",
       "  308.828,1462.22 339.014,1462.22 \n",
       "  \"/>\n",
       "<polyline clip-path=\"url(#clip4601)\" style=\"stroke:#000000; stroke-width:4; stroke-opacity:1; fill:none\" points=\"\n",
       "  308.828,1178.62 339.014,1178.62 \n",
       "  \"/>\n",
       "<polyline clip-path=\"url(#clip4601)\" style=\"stroke:#000000; stroke-width:4; stroke-opacity:1; fill:none\" points=\"\n",
       "  308.828,895.016 339.014,895.016 \n",
       "  \"/>\n",
       "<polyline clip-path=\"url(#clip4601)\" style=\"stroke:#000000; stroke-width:4; stroke-opacity:1; fill:none\" points=\"\n",
       "  308.828,611.416 339.014,611.416 \n",
       "  \"/>\n",
       "<polyline clip-path=\"url(#clip4601)\" style=\"stroke:#000000; stroke-width:4; stroke-opacity:1; fill:none\" points=\"\n",
       "  308.828,327.816 339.014,327.816 \n",
       "  \"/>\n",
       "<g clip-path=\"url(#clip4601)\">\n",
       "<text style=\"fill:#000000; fill-opacity:1; font-family:Arial,Helvetica Neue,Helvetica,sans-serif; font-size:48px; text-anchor:middle;\" transform=\"rotate(0, 368.724, 1557.47)\" x=\"368.724\" y=\"1557.47\">0</text>\n",
       "</g>\n",
       "<g clip-path=\"url(#clip4601)\">\n",
       "<text style=\"fill:#000000; fill-opacity:1; font-family:Arial,Helvetica Neue,Helvetica,sans-serif; font-size:48px; text-anchor:middle;\" transform=\"rotate(0, 910.318, 1557.47)\" x=\"910.318\" y=\"1557.47\">100</text>\n",
       "</g>\n",
       "<g clip-path=\"url(#clip4601)\">\n",
       "<text style=\"fill:#000000; fill-opacity:1; font-family:Arial,Helvetica Neue,Helvetica,sans-serif; font-size:48px; text-anchor:middle;\" transform=\"rotate(0, 1451.91, 1557.47)\" x=\"1451.91\" y=\"1557.47\">200</text>\n",
       "</g>\n",
       "<g clip-path=\"url(#clip4601)\">\n",
       "<text style=\"fill:#000000; fill-opacity:1; font-family:Arial,Helvetica Neue,Helvetica,sans-serif; font-size:48px; text-anchor:middle;\" transform=\"rotate(0, 1993.51, 1557.47)\" x=\"1993.51\" y=\"1557.47\">300</text>\n",
       "</g>\n",
       "<g clip-path=\"url(#clip4601)\">\n",
       "<text style=\"fill:#000000; fill-opacity:1; font-family:Arial,Helvetica Neue,Helvetica,sans-serif; font-size:48px; text-anchor:end;\" transform=\"rotate(0, 284.828, 1479.72)\" x=\"284.828\" y=\"1479.72\">0</text>\n",
       "</g>\n",
       "<g clip-path=\"url(#clip4601)\">\n",
       "<text style=\"fill:#000000; fill-opacity:1; font-family:Arial,Helvetica Neue,Helvetica,sans-serif; font-size:48px; text-anchor:start;\" transform=\"rotate(0, 114.543, 1202.34)\" x=\"114.543\" y=\"1202.34\">2.5×10</text>\n",
       "</g>\n",
       "<g clip-path=\"url(#clip4601)\">\n",
       "<text style=\"fill:#000000; fill-opacity:1; font-family:Arial,Helvetica Neue,Helvetica,sans-serif; font-size:38px; text-anchor:start;\" transform=\"rotate(0, 263.083, 1174.93)\" x=\"263.083\" y=\"1174.93\">4</text>\n",
       "</g>\n",
       "<g clip-path=\"url(#clip4601)\">\n",
       "<text style=\"fill:#000000; fill-opacity:1; font-family:Arial,Helvetica Neue,Helvetica,sans-serif; font-size:48px; text-anchor:start;\" transform=\"rotate(0, 114.543, 918.744)\" x=\"114.543\" y=\"918.744\">5.0×10</text>\n",
       "</g>\n",
       "<g clip-path=\"url(#clip4601)\">\n",
       "<text style=\"fill:#000000; fill-opacity:1; font-family:Arial,Helvetica Neue,Helvetica,sans-serif; font-size:38px; text-anchor:start;\" transform=\"rotate(0, 263.083, 891.334)\" x=\"263.083\" y=\"891.334\">4</text>\n",
       "</g>\n",
       "<g clip-path=\"url(#clip4601)\">\n",
       "<text style=\"fill:#000000; fill-opacity:1; font-family:Arial,Helvetica Neue,Helvetica,sans-serif; font-size:48px; text-anchor:start;\" transform=\"rotate(0, 114.543, 635.144)\" x=\"114.543\" y=\"635.144\">7.5×10</text>\n",
       "</g>\n",
       "<g clip-path=\"url(#clip4601)\">\n",
       "<text style=\"fill:#000000; fill-opacity:1; font-family:Arial,Helvetica Neue,Helvetica,sans-serif; font-size:38px; text-anchor:start;\" transform=\"rotate(0, 263.083, 607.734)\" x=\"263.083\" y=\"607.734\">4</text>\n",
       "</g>\n",
       "<g clip-path=\"url(#clip4601)\">\n",
       "<text style=\"fill:#000000; fill-opacity:1; font-family:Arial,Helvetica Neue,Helvetica,sans-serif; font-size:48px; text-anchor:start;\" transform=\"rotate(0, 114.543, 351.544)\" x=\"114.543\" y=\"351.544\">1.0×10</text>\n",
       "</g>\n",
       "<g clip-path=\"url(#clip4601)\">\n",
       "<text style=\"fill:#000000; fill-opacity:1; font-family:Arial,Helvetica Neue,Helvetica,sans-serif; font-size:38px; text-anchor:start;\" transform=\"rotate(0, 263.083, 324.134)\" x=\"263.083\" y=\"324.134\">5</text>\n",
       "</g>\n",
       "<polyline clip-path=\"url(#clip4603)\" style=\"stroke:#009af9; stroke-width:4; stroke-opacity:1; fill:none\" points=\"\n",
       "  365.783,1462.19 538.909,1452.44 642.95,1435.43 730.915,1414.52 826.471,1385.02 914.564,1351.56 1009.01,1309.03 1118.43,1251.12 1215.68,1191.89 1300.95,1133.93 \n",
       "  1393.92,1064.33 1487.45,987.57 1590.85,894.827 1689.23,798.906 1791.53,691.23 1877.64,594.316 1982.78,468.219 2081.61,341.889 2239.94,123.75 \n",
       "  \"/>\n",
       "<circle clip-path=\"url(#clip4603)\" style=\"fill:#000000; stroke:none; fill-opacity:1\" cx=\"2264.3\" cy=\"88.4582\" r=\"18\"/>\n",
       "<circle clip-path=\"url(#clip4603)\" style=\"fill:#e26f46; stroke:none; fill-opacity:1\" cx=\"2264.3\" cy=\"88.4582\" r=\"14\"/>\n",
       "<circle clip-path=\"url(#clip4603)\" style=\"fill:#000000; stroke:none; fill-opacity:1\" cx=\"1811.96\" cy=\"668.753\" r=\"18\"/>\n",
       "<circle clip-path=\"url(#clip4603)\" style=\"fill:#e26f46; stroke:none; fill-opacity:1\" cx=\"1811.96\" cy=\"668.753\" r=\"14\"/>\n",
       "<circle clip-path=\"url(#clip4603)\" style=\"fill:#000000; stroke:none; fill-opacity:1\" cx=\"1468.19\" cy=\"1003.93\" r=\"18\"/>\n",
       "<circle clip-path=\"url(#clip4603)\" style=\"fill:#e26f46; stroke:none; fill-opacity:1\" cx=\"1468.19\" cy=\"1003.93\" r=\"14\"/>\n",
       "<circle clip-path=\"url(#clip4603)\" style=\"fill:#000000; stroke:none; fill-opacity:1\" cx=\"1206.91\" cy=\"1197.53\" r=\"18\"/>\n",
       "<circle clip-path=\"url(#clip4603)\" style=\"fill:#e26f46; stroke:none; fill-opacity:1\" cx=\"1206.91\" cy=\"1197.53\" r=\"14\"/>\n",
       "<circle clip-path=\"url(#clip4603)\" style=\"fill:#000000; stroke:none; fill-opacity:1\" cx=\"1008.35\" cy=\"1309.35\" r=\"18\"/>\n",
       "<circle clip-path=\"url(#clip4603)\" style=\"fill:#e26f46; stroke:none; fill-opacity:1\" cx=\"1008.35\" cy=\"1309.35\" r=\"14\"/>\n",
       "<circle clip-path=\"url(#clip4603)\" style=\"fill:#000000; stroke:none; fill-opacity:1\" cx=\"857.438\" cy=\"1373.94\" r=\"18\"/>\n",
       "<circle clip-path=\"url(#clip4603)\" style=\"fill:#e26f46; stroke:none; fill-opacity:1\" cx=\"857.438\" cy=\"1373.94\" r=\"14\"/>\n",
       "<circle clip-path=\"url(#clip4603)\" style=\"fill:#000000; stroke:none; fill-opacity:1\" cx=\"742.746\" cy=\"1411.25\" r=\"18\"/>\n",
       "<circle clip-path=\"url(#clip4603)\" style=\"fill:#e26f46; stroke:none; fill-opacity:1\" cx=\"742.746\" cy=\"1411.25\" r=\"14\"/>\n",
       "<circle clip-path=\"url(#clip4603)\" style=\"fill:#000000; stroke:none; fill-opacity:1\" cx=\"655.58\" cy=\"1432.8\" r=\"18\"/>\n",
       "<circle clip-path=\"url(#clip4603)\" style=\"fill:#e26f46; stroke:none; fill-opacity:1\" cx=\"655.58\" cy=\"1432.8\" r=\"14\"/>\n",
       "<circle clip-path=\"url(#clip4603)\" style=\"fill:#000000; stroke:none; fill-opacity:1\" cx=\"589.334\" cy=\"1445.24\" r=\"18\"/>\n",
       "<circle clip-path=\"url(#clip4603)\" style=\"fill:#e26f46; stroke:none; fill-opacity:1\" cx=\"589.334\" cy=\"1445.24\" r=\"14\"/>\n",
       "<circle clip-path=\"url(#clip4603)\" style=\"fill:#000000; stroke:none; fill-opacity:1\" cx=\"538.987\" cy=\"1452.43\" r=\"18\"/>\n",
       "<circle clip-path=\"url(#clip4603)\" style=\"fill:#e26f46; stroke:none; fill-opacity:1\" cx=\"538.987\" cy=\"1452.43\" r=\"14\"/>\n",
       "<circle clip-path=\"url(#clip4603)\" style=\"fill:#000000; stroke:none; fill-opacity:1\" cx=\"500.724\" cy=\"1456.58\" r=\"18\"/>\n",
       "<circle clip-path=\"url(#clip4603)\" style=\"fill:#e26f46; stroke:none; fill-opacity:1\" cx=\"500.724\" cy=\"1456.58\" r=\"14\"/>\n",
       "<circle clip-path=\"url(#clip4603)\" style=\"fill:#000000; stroke:none; fill-opacity:1\" cx=\"471.643\" cy=\"1458.98\" r=\"18\"/>\n",
       "<circle clip-path=\"url(#clip4603)\" style=\"fill:#e26f46; stroke:none; fill-opacity:1\" cx=\"471.643\" cy=\"1458.98\" r=\"14\"/>\n",
       "<circle clip-path=\"url(#clip4603)\" style=\"fill:#000000; stroke:none; fill-opacity:1\" cx=\"449.542\" cy=\"1460.37\" r=\"18\"/>\n",
       "<circle clip-path=\"url(#clip4603)\" style=\"fill:#e26f46; stroke:none; fill-opacity:1\" cx=\"449.542\" cy=\"1460.37\" r=\"14\"/>\n",
       "<circle clip-path=\"url(#clip4603)\" style=\"fill:#000000; stroke:none; fill-opacity:1\" cx=\"432.745\" cy=\"1461.17\" r=\"18\"/>\n",
       "<circle clip-path=\"url(#clip4603)\" style=\"fill:#e26f46; stroke:none; fill-opacity:1\" cx=\"432.745\" cy=\"1461.17\" r=\"14\"/>\n",
       "<circle clip-path=\"url(#clip4603)\" style=\"fill:#000000; stroke:none; fill-opacity:1\" cx=\"419.98\" cy=\"1461.63\" r=\"18\"/>\n",
       "<circle clip-path=\"url(#clip4603)\" style=\"fill:#e26f46; stroke:none; fill-opacity:1\" cx=\"419.98\" cy=\"1461.63\" r=\"14\"/>\n",
       "<circle clip-path=\"url(#clip4603)\" style=\"fill:#000000; stroke:none; fill-opacity:1\" cx=\"410.278\" cy=\"1461.9\" r=\"18\"/>\n",
       "<circle clip-path=\"url(#clip4603)\" style=\"fill:#e26f46; stroke:none; fill-opacity:1\" cx=\"410.278\" cy=\"1461.9\" r=\"14\"/>\n",
       "<circle clip-path=\"url(#clip4603)\" style=\"fill:#000000; stroke:none; fill-opacity:1\" cx=\"402.904\" cy=\"1462.05\" r=\"18\"/>\n",
       "<circle clip-path=\"url(#clip4603)\" style=\"fill:#e26f46; stroke:none; fill-opacity:1\" cx=\"402.904\" cy=\"1462.05\" r=\"14\"/>\n",
       "<circle clip-path=\"url(#clip4603)\" style=\"fill:#000000; stroke:none; fill-opacity:1\" cx=\"397.3\" cy=\"1462.14\" r=\"18\"/>\n",
       "<circle clip-path=\"url(#clip4603)\" style=\"fill:#e26f46; stroke:none; fill-opacity:1\" cx=\"397.3\" cy=\"1462.14\" r=\"14\"/>\n",
       "<circle clip-path=\"url(#clip4603)\" style=\"fill:#000000; stroke:none; fill-opacity:1\" cx=\"393.042\" cy=\"1462.19\" r=\"18\"/>\n",
       "<circle clip-path=\"url(#clip4603)\" style=\"fill:#e26f46; stroke:none; fill-opacity:1\" cx=\"393.042\" cy=\"1462.19\" r=\"14\"/>\n",
       "<circle clip-path=\"url(#clip4603)\" style=\"fill:#000000; stroke:none; fill-opacity:1\" cx=\"389.805\" cy=\"1462.22\" r=\"18\"/>\n",
       "<circle clip-path=\"url(#clip4603)\" style=\"fill:#e26f46; stroke:none; fill-opacity:1\" cx=\"389.805\" cy=\"1462.22\" r=\"14\"/>\n",
       "<circle clip-path=\"url(#clip4603)\" style=\"fill:#000000; stroke:none; fill-opacity:1\" cx=\"387.345\" cy=\"1462.24\" r=\"18\"/>\n",
       "<circle clip-path=\"url(#clip4603)\" style=\"fill:#e26f46; stroke:none; fill-opacity:1\" cx=\"387.345\" cy=\"1462.24\" r=\"14\"/>\n",
       "<circle clip-path=\"url(#clip4603)\" style=\"fill:#000000; stroke:none; fill-opacity:1\" cx=\"385.475\" cy=\"1462.25\" r=\"18\"/>\n",
       "<circle clip-path=\"url(#clip4603)\" style=\"fill:#e26f46; stroke:none; fill-opacity:1\" cx=\"385.475\" cy=\"1462.25\" r=\"14\"/>\n",
       "<circle clip-path=\"url(#clip4603)\" style=\"fill:#000000; stroke:none; fill-opacity:1\" cx=\"384.055\" cy=\"1462.25\" r=\"18\"/>\n",
       "<circle clip-path=\"url(#clip4603)\" style=\"fill:#e26f46; stroke:none; fill-opacity:1\" cx=\"384.055\" cy=\"1462.25\" r=\"14\"/>\n",
       "<circle clip-path=\"url(#clip4603)\" style=\"fill:#000000; stroke:none; fill-opacity:1\" cx=\"382.975\" cy=\"1462.26\" r=\"18\"/>\n",
       "<circle clip-path=\"url(#clip4603)\" style=\"fill:#e26f46; stroke:none; fill-opacity:1\" cx=\"382.975\" cy=\"1462.26\" r=\"14\"/>\n",
       "<circle clip-path=\"url(#clip4603)\" style=\"fill:#000000; stroke:none; fill-opacity:1\" cx=\"382.154\" cy=\"1462.26\" r=\"18\"/>\n",
       "<circle clip-path=\"url(#clip4603)\" style=\"fill:#e26f46; stroke:none; fill-opacity:1\" cx=\"382.154\" cy=\"1462.26\" r=\"14\"/>\n",
       "<circle clip-path=\"url(#clip4603)\" style=\"fill:#000000; stroke:none; fill-opacity:1\" cx=\"381.53\" cy=\"1462.26\" r=\"18\"/>\n",
       "<circle clip-path=\"url(#clip4603)\" style=\"fill:#e26f46; stroke:none; fill-opacity:1\" cx=\"381.53\" cy=\"1462.26\" r=\"14\"/>\n",
       "<circle clip-path=\"url(#clip4603)\" style=\"fill:#000000; stroke:none; fill-opacity:1\" cx=\"381.056\" cy=\"1462.26\" r=\"18\"/>\n",
       "<circle clip-path=\"url(#clip4603)\" style=\"fill:#e26f46; stroke:none; fill-opacity:1\" cx=\"381.056\" cy=\"1462.26\" r=\"14\"/>\n",
       "<polygon clip-path=\"url(#clip4601)\" points=\"\n",
       "1958.43,312.204 2249.26,312.204 2249.26,130.764 1958.43,130.764 \n",
       "  \" fill=\"#ffffff\" fill-rule=\"evenodd\" fill-opacity=\"1\"/>\n",
       "<polyline clip-path=\"url(#clip4601)\" style=\"stroke:#000000; stroke-width:4; stroke-opacity:1; fill:none\" points=\"\n",
       "  1958.43,312.204 2249.26,312.204 2249.26,130.764 1958.43,130.764 1958.43,312.204 \n",
       "  \"/>\n",
       "<polyline clip-path=\"url(#clip4601)\" style=\"stroke:#009af9; stroke-width:4; stroke-opacity:1; fill:none\" points=\"\n",
       "  1982.43,191.244 2126.43,191.244 \n",
       "  \"/>\n",
       "<g clip-path=\"url(#clip4601)\">\n",
       "<text style=\"fill:#000000; fill-opacity:1; font-family:Arial,Helvetica Neue,Helvetica,sans-serif; font-size:48px; text-anchor:start;\" transform=\"rotate(0, 2150.43, 208.744)\" x=\"2150.43\" y=\"208.744\">y1</text>\n",
       "</g>\n",
       "<circle clip-path=\"url(#clip4601)\" style=\"fill:#000000; stroke:none; fill-opacity:1\" cx=\"2066.43\" cy=\"251.724\" r=\"25\"/>\n",
       "<circle clip-path=\"url(#clip4601)\" style=\"fill:#e26f46; stroke:none; fill-opacity:1\" cx=\"2066.43\" cy=\"251.724\" r=\"21\"/>\n",
       "<g clip-path=\"url(#clip4601)\">\n",
       "<text style=\"fill:#000000; fill-opacity:1; font-family:Arial,Helvetica Neue,Helvetica,sans-serif; font-size:48px; text-anchor:start;\" transform=\"rotate(0, 2150.43, 269.224)\" x=\"2150.43\" y=\"269.224\">y2</text>\n",
       "</g>\n",
       "</svg>\n"
      ]
     },
     "execution_count": 19,
     "metadata": {},
     "output_type": "execute_result"
    }
   ],
   "source": [
    "plot(f, -4, 350)\n",
    "scatter!(D1)"
   ]
  },
  {
   "cell_type": "code",
   "execution_count": 26,
   "metadata": {},
   "outputs": [
    {
     "data": {
      "text/plain": [
       "f (generic function with 2 methods)"
      ]
     },
     "execution_count": 26,
     "metadata": {},
     "output_type": "execute_result"
    }
   ],
   "source": [
    "# Creating a new, two dimension function\n",
    "\n",
    "f(x, y) = (x-2)^4 + (x - 3*y^2)^2"
   ]
  },
  {
   "cell_type": "code",
   "execution_count": 27,
   "metadata": {},
   "outputs": [
    {
     "data": {
      "text/plain": [
       "122"
      ]
     },
     "execution_count": 27,
     "metadata": {},
     "output_type": "execute_result"
    }
   ],
   "source": [
    "f(1, 2)"
   ]
  },
  {
   "cell_type": "code",
   "execution_count": 36,
   "metadata": {},
   "outputs": [
    {
     "data": {
      "text/plain": [
       "grad_f (generic function with 1 method)"
      ]
     },
     "execution_count": 36,
     "metadata": {},
     "output_type": "execute_result"
    }
   ],
   "source": [
    "# New gradient descent algorithm for the new two dimensional function\n",
    "grad_f(f, x, y, ϵ) = [(f(x+ϵ, y) - f(x,y)) / ϵ, (f(x, y+ϵ) - f(x,y))/ϵ]"
   ]
  },
  {
   "cell_type": "code",
   "execution_count": 29,
   "metadata": {},
   "outputs": [
    {
     "data": {
      "text/plain": [
       "2-element Array{Float64,1}:\n",
       " -7.999930000401888\n",
       " 24.000480003749654"
      ]
     },
     "execution_count": 29,
     "metadata": {},
     "output_type": "execute_result"
    }
   ],
   "source": [
    "grad_f(f, 1.0, 1.0, 0.00001)"
   ]
  },
  {
   "cell_type": "code",
   "execution_count": 30,
   "metadata": {},
   "outputs": [
    {
     "data": {
      "text/plain": [
       "2-element Array{Float64,1}:\n",
       "  1.9599916000482267\n",
       " -1.8800576004499585"
      ]
     },
     "execution_count": 30,
     "metadata": {},
     "output_type": "execute_result"
    }
   ],
   "source": [
    "x0 = [1.0, 1.0]\n",
    "x1 = x0 - .12 * grad_f(f, x0[1], x0[2], 0.00001)"
   ]
  },
  {
   "cell_type": "code",
   "execution_count": 31,
   "metadata": {},
   "outputs": [
    {
     "data": {
      "text/plain": [
       "2-element Array{Float64,1}:\n",
       "  4.034547082116035\n",
       " 21.52109719558359 "
      ]
     },
     "execution_count": 31,
     "metadata": {},
     "output_type": "execute_result"
    }
   ],
   "source": [
    "x2 = x1 - .12 * grad_f(f, x1[1], x1[2], 0.00001)"
   ]
  },
  {
   "cell_type": "code",
   "execution_count": 32,
   "metadata": {},
   "outputs": [
    {
     "data": {
      "text/plain": [
       "2-element Array{Float64,1}:\n",
       "    332.49726513676825\n",
       " -42913.769039178944  "
      ]
     },
     "execution_count": 32,
     "metadata": {},
     "output_type": "execute_result"
    }
   ],
   "source": [
    "x3 = x2 - .12 * grad_f(f, x2[1], x2[2], 0.00001)"
   ]
  },
  {
   "cell_type": "code",
   "execution_count": 33,
   "metadata": {},
   "outputs": [
    {
     "data": {
      "text/plain": [
       "2-element Array{Float64,1}:\n",
       " 1.376256332497265e9  \n",
       " 3.4140812078908625e14"
      ]
     },
     "execution_count": 33,
     "metadata": {},
     "output_type": "execute_result"
    }
   ],
   "source": [
    "x4 = x3 - .12 * grad_f(f, x3[1], x3[2], 0.00001)"
   ]
  },
  {
   "cell_type": "code",
   "execution_count": 34,
   "metadata": {},
   "outputs": [
    {
     "data": {
      "text/plain": [
       "2-element Array{Float64,1}:\n",
       " 1.376256332497265e9  \n",
       " 3.4140812078908625e14"
      ]
     },
     "execution_count": 34,
     "metadata": {},
     "output_type": "execute_result"
    }
   ],
   "source": [
    "x5 = x4 - .12 * grad_f(f, x4[1], x4[2], 0.00001)"
   ]
  },
  {
   "cell_type": "code",
   "execution_count": 35,
   "metadata": {},
   "outputs": [
    {
     "data": {
      "text/plain": [
       "2-element Array{Float64,1}:\n",
       " 0.0\n",
       " 0.0"
      ]
     },
     "execution_count": 35,
     "metadata": {},
     "output_type": "execute_result"
    }
   ],
   "source": [
    "# It's perpendicular when the gradient is zero? (IDK)\n",
    "grad_f(f, x4[1], x4[2], 0.00001)"
   ]
  },
  {
   "cell_type": "code",
   "execution_count": null,
   "metadata": {},
   "outputs": [],
   "source": []
  }
 ],
 "metadata": {
  "kernelspec": {
   "display_name": "Julia 1.1.0",
   "language": "julia",
   "name": "julia-1.1"
  },
  "language_info": {
   "file_extension": ".jl",
   "mimetype": "application/julia",
   "name": "julia",
   "version": "1.1.0"
  }
 },
 "nbformat": 4,
 "nbformat_minor": 2
}
