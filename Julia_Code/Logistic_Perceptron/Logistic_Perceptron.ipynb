{
 "cells": [
  {
   "cell_type": "markdown",
   "metadata": {},
   "source": [
    "# Linear/Logistic Perceptron"
   ]
  },
  {
   "cell_type": "markdown",
   "metadata": {},
   "source": [
    "Loading packages:"
   ]
  },
  {
   "cell_type": "code",
   "execution_count": 2,
   "metadata": {},
   "outputs": [
    {
     "name": "stdout",
     "output_type": "stream",
     "text": [
      "\u001b[32m\u001b[1m Resolving\u001b[22m\u001b[39m package versions...\n",
      "\u001b[32m\u001b[1m  Updating\u001b[22m\u001b[39m `~/.julia/Project.toml`\n",
      "\u001b[90m [no changes]\u001b[39m\n",
      "\u001b[32m\u001b[1m  Updating\u001b[22m\u001b[39m `~/.julia/Manifest.toml`\n",
      "\u001b[90m [no changes]\u001b[39m\n"
     ]
    }
   ],
   "source": [
    "using Pkg;\n",
    "Pkg.add(\"MLDataUtils\")\n",
    "\n",
    "using MLDataUtils, LinearAlgebra"
   ]
  },
  {
   "cell_type": "markdown",
   "metadata": {},
   "source": [
    "Loading data:"
   ]
  },
  {
   "cell_type": "code",
   "execution_count": 3,
   "metadata": {},
   "outputs": [
    {
     "data": {
      "text/plain": [
       "([5.1 4.9 … 5.1 5.7; 3.5 3.0 … 2.5 2.8; 1.4 1.4 … 3.0 4.1; 0.2 0.2 … 1.1 1.3], [\"setosa\", \"setosa\", \"setosa\", \"setosa\", \"setosa\", \"setosa\", \"setosa\", \"setosa\", \"setosa\", \"setosa\"  …  \"versicolor\", \"versicolor\", \"versicolor\", \"versicolor\", \"versicolor\", \"versicolor\", \"versicolor\", \"versicolor\", \"versicolor\", \"versicolor\"], [\"Sepal length\", \"Sepal width\", \"Petal length\", \"Petal width\"])"
      ]
     },
     "execution_count": 3,
     "metadata": {},
     "output_type": "execute_result"
    }
   ],
   "source": [
    "X, Y, fnames = load_iris(100)"
   ]
  },
  {
   "cell_type": "markdown",
   "metadata": {},
   "source": [
    "#### Showing our data:\n",
    "X - Characteristics of data, first 50 columns are setosa, second 50 are versicolor.\n",
    "Y - Label\n",
    "fnames - Columns"
   ]
  },
  {
   "cell_type": "code",
   "execution_count": 8,
   "metadata": {},
   "outputs": [
    {
     "data": {
      "text/plain": [
       "4×100 Array{Float64,2}:\n",
       " 5.1  4.9  4.7  4.6  5.0  5.4  4.6  5.0  …  5.0  5.6  5.7  5.7  6.2  5.1  5.7\n",
       " 3.5  3.0  3.2  3.1  3.6  3.9  3.4  3.4     2.3  2.7  3.0  2.9  2.9  2.5  2.8\n",
       " 1.4  1.4  1.3  1.5  1.4  1.7  1.4  1.5     3.3  4.2  4.2  4.2  4.3  3.0  4.1\n",
       " 0.2  0.2  0.2  0.2  0.2  0.4  0.3  0.2     1.0  1.3  1.2  1.3  1.3  1.1  1.3"
      ]
     },
     "execution_count": 8,
     "metadata": {},
     "output_type": "execute_result"
    }
   ],
   "source": [
    "X"
   ]
  },
  {
   "cell_type": "code",
   "execution_count": 9,
   "metadata": {},
   "outputs": [
    {
     "data": {
      "text/plain": [
       "100-element Array{String,1}:\n",
       " \"setosa\"    \n",
       " \"setosa\"    \n",
       " \"setosa\"    \n",
       " \"setosa\"    \n",
       " \"setosa\"    \n",
       " \"setosa\"    \n",
       " \"setosa\"    \n",
       " \"setosa\"    \n",
       " \"setosa\"    \n",
       " \"setosa\"    \n",
       " \"setosa\"    \n",
       " \"setosa\"    \n",
       " \"setosa\"    \n",
       " ⋮           \n",
       " \"versicolor\"\n",
       " \"versicolor\"\n",
       " \"versicolor\"\n",
       " \"versicolor\"\n",
       " \"versicolor\"\n",
       " \"versicolor\"\n",
       " \"versicolor\"\n",
       " \"versicolor\"\n",
       " \"versicolor\"\n",
       " \"versicolor\"\n",
       " \"versicolor\"\n",
       " \"versicolor\""
      ]
     },
     "execution_count": 9,
     "metadata": {},
     "output_type": "execute_result"
    }
   ],
   "source": [
    "Y"
   ]
  },
  {
   "cell_type": "code",
   "execution_count": 14,
   "metadata": {},
   "outputs": [
    {
     "data": {
      "text/plain": [
       "4-element Array{String,1}:\n",
       " \"Sepal length\"\n",
       " \"Sepal width\" \n",
       " \"Petal length\"\n",
       " \"Petal width\" "
      ]
     },
     "execution_count": 14,
     "metadata": {},
     "output_type": "execute_result"
    }
   ],
   "source": [
    "fnames"
   ]
  },
  {
   "cell_type": "markdown",
   "metadata": {},
   "source": [
    "Separating our data:"
   ]
  },
  {
   "cell_type": "code",
   "execution_count": 15,
   "metadata": {},
   "outputs": [],
   "source": [
    "x_train = []\n",
    "y_train = []\n",
    "for i in 1:40\n",
    "    push!(x_train, X[1:2, i])\n",
    "    push!(x_train, X[1:2, 49 + i])\n",
    "    push!(y_train, 1.0)\n",
    "    push!(y_train, -1.0)\n",
    "end"
   ]
  },
  {
   "cell_type": "markdown",
   "metadata": {},
   "source": [
    "Creating a random set of weights:"
   ]
  },
  {
   "cell_type": "code",
   "execution_count": 16,
   "metadata": {},
   "outputs": [
    {
     "data": {
      "text/plain": [
       "3-element Array{Float64,1}:\n",
       " 0.6450518111679937 \n",
       " 0.2045132271020429 \n",
       " 0.36297755110836527"
      ]
     },
     "execution_count": 16,
     "metadata": {},
     "output_type": "execute_result"
    }
   ],
   "source": [
    "# random set of weights\n",
    "w = rand(3)"
   ]
  },
  {
   "cell_type": "markdown",
   "metadata": {},
   "source": [
    "Creating our perception function:"
   ]
  },
  {
   "cell_type": "code",
   "execution_count": 17,
   "metadata": {},
   "outputs": [
    {
     "data": {
      "text/plain": [
       "linear_perceptron! (generic function with 1 method)"
      ]
     },
     "execution_count": 17,
     "metadata": {},
     "output_type": "execute_result"
    }
   ],
   "source": [
    "function linear_perceptron!(x, y_hat, w, α)\n",
    "    new_x = copy(x)\n",
    "    push!(new_x, 1.0)\n",
    "    # we need w_k+1 = w_k - α_k(x1, x2...xN)\n",
    "    # which is the same as y = z   => z = w1*x1 + w2*x2 + w3   => w^T * x\n",
    "    y = w'*new_x\n",
    "    w -= α*(y - y_hat)*new_x\n",
    "end"
   ]
  },
  {
   "cell_type": "markdown",
   "metadata": {},
   "source": [
    "Iterating our algorithm:"
   ]
  },
  {
   "cell_type": "code",
   "execution_count": 18,
   "metadata": {},
   "outputs": [],
   "source": [
    "for _ in 1:100\n",
    "    for i in 1:80\n",
    "        linear_perceptron!(x_train[i], y_train[i], w, 0.45)\n",
    "    end\n",
    "end"
   ]
  },
  {
   "cell_type": "code",
   "execution_count": 19,
   "metadata": {},
   "outputs": [],
   "source": [
    "x_test = []\n",
    "y_test = []\n",
    "\n",
    "for i in 1:9\n",
    "    push!(x_test, X[1:2, 40+i])\n",
    "    push!(x_test, X[1:2, 90 + i])\n",
    "    push!(y_test, 1.0)\n",
    "    push!(y_test, -1.0)\n",
    "end"
   ]
  },
  {
   "cell_type": "code",
   "execution_count": 20,
   "metadata": {},
   "outputs": [
    {
     "data": {
      "text/plain": [
       "predict (generic function with 1 method)"
      ]
     },
     "execution_count": 20,
     "metadata": {},
     "output_type": "execute_result"
    }
   ],
   "source": [
    "function predict(x, w)\n",
    "    x_new = copy(x)\n",
    "    push!(x_new, 1.0)\n",
    "    return( w'*x_new)\n",
    "end"
   ]
  },
  {
   "cell_type": "code",
   "execution_count": 21,
   "metadata": {},
   "outputs": [
    {
     "data": {
      "text/plain": [
       "4.304032901805484"
      ]
     },
     "execution_count": 21,
     "metadata": {},
     "output_type": "execute_result"
    }
   ],
   "source": [
    "predict(x_test[1], w)"
   ]
  },
  {
   "cell_type": "code",
   "execution_count": 22,
   "metadata": {},
   "outputs": [],
   "source": [
    "for _ in 1:1000\n",
    "    for i in 1:80\n",
    "        linear_perceptron!(x_train[i], y_train[i], w, 0.45)\n",
    "    end\n",
    "end\n"
   ]
  },
  {
   "cell_type": "code",
   "execution_count": 23,
   "metadata": {},
   "outputs": [
    {
     "data": {
      "text/plain": [
       "4.63601244634804"
      ]
     },
     "execution_count": 23,
     "metadata": {},
     "output_type": "execute_result"
    }
   ],
   "source": [
    "predict(x_test[6], w)"
   ]
  },
  {
   "cell_type": "code",
   "execution_count": 24,
   "metadata": {},
   "outputs": [
    {
     "data": {
      "text/plain": [
       "logistic_perceptron! (generic function with 1 method)"
      ]
     },
     "execution_count": 24,
     "metadata": {},
     "output_type": "execute_result"
    }
   ],
   "source": [
    "function σ(s)\n",
    "    return 1/(1+exp(-s))\n",
    "end\n",
    "\n",
    "function logistic_perceptron!(x, y_hat, w, α)\n",
    "    new_x = copy(x)\n",
    "    push!(new_x, 1.0)\n",
    "    z = w'*new_x\n",
    "    y = σ(z)\n",
    "    \n",
    "    w -= α*(y - y_hat)*σ(z)*(1 - σ(z)) * new_x\n",
    "    return w\n",
    "end\n"
   ]
  },
  {
   "cell_type": "code",
   "execution_count": 25,
   "metadata": {},
   "outputs": [],
   "source": [
    "for _ in 1:10000\n",
    "    for i in 1:80\n",
    "        w = logistic_perceptron!(x_train[i], y_train[i], w, 0.45)\n",
    "    end\n",
    "end"
   ]
  },
  {
   "cell_type": "code",
   "execution_count": 26,
   "metadata": {},
   "outputs": [
    {
     "data": {
      "text/plain": [
       "2.0150986590416844e-9"
      ]
     },
     "execution_count": 26,
     "metadata": {},
     "output_type": "execute_result"
    }
   ],
   "source": [
    "σ(predict(x_test[2], w))"
   ]
  },
  {
   "cell_type": "code",
   "execution_count": null,
   "metadata": {},
   "outputs": [],
   "source": []
  },
  {
   "cell_type": "code",
   "execution_count": null,
   "metadata": {},
   "outputs": [],
   "source": []
  }
 ],
 "metadata": {
  "kernelspec": {
   "display_name": "Julia 1.0.3",
   "language": "julia",
   "name": "julia-1.0"
  },
  "language_info": {
   "file_extension": ".jl",
   "mimetype": "application/julia",
   "name": "julia",
   "version": "1.0.3"
  }
 },
 "nbformat": 4,
 "nbformat_minor": 2
}
